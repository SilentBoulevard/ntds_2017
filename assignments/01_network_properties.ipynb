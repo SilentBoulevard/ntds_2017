{
 "cells": [
  {
   "cell_type": "markdown",
   "metadata": {},
   "source": [
    "# Collect and Analyze a Twitter Network\n",
    "[Effrosyni Simou](http://lts4.epfl.ch/simou), *PhD Student*, [EPFL](http://epfl.ch) [LTS4](http://lts4.epfl.ch)"
   ]
  },
  {
   "cell_type": "markdown",
   "metadata": {},
   "source": [
    "# Objective of Exercise\n",
    "The aim of this exercise is to learn how to create your own, real network using data collected from the Internet and then to discover some properties of the collected network. "
   ]
  },
  {
   "cell_type": "markdown",
   "metadata": {},
   "source": [
    "# Resources\n",
    "You might want to have a look at the following resources before starting:\n",
    "\n",
    "* [Twitter REST API](https://dev.twitter.com/rest/public)\n",
    "* [Tweepy Documentation](http://tweepy.readthedocs.io/en/v3.5.0/)\n",
    "* [Tutorial \"Mining Twitter data with Python\"](https://marcobonzanini.com/2015/03/02/mining-twitter-data-with-python-part-1/)"
   ]
  },
  {
   "cell_type": "markdown",
   "metadata": {},
   "source": [
    "# 1. Collect a Twitter Network"
   ]
  },
  {
   "cell_type": "markdown",
   "metadata": {},
   "source": [
    "In order to collect data from Twitter you will need to generate access tokens.  To do this you will need to register a [client application with Twitter](https://apps.twitter.com/). Once you are done you should have your tokens. You can now create a `credentials.ini` file as follows:\n",
    "```\n",
    "[twitter]\n",
    "consumer_key = YOUR-CONSUMER-KEY\n",
    "consumer_secret = YOUR-CONSUMER-SECRET\n",
    "access_token = YOUR-ACCESS-TOKEN\n",
    "access_secret = YOUR-ACCESS-SECRET\n",
    "```\n",
    "In this way you will have this information readily available to you. "
   ]
  },
  {
   "cell_type": "code",
   "execution_count": 1,
   "metadata": {
    "collapsed": true
   },
   "outputs": [],
   "source": [
    "%matplotlib inline\n",
    "import time\n",
    "import random\n",
    "import configparser\n",
    "import matplotlib.pyplot as plt\n",
    "import numpy as np\n",
    "from pprint import pprint\n",
    "import tweepy  # you will need to install tweepy first"
   ]
  },
  {
   "cell_type": "code",
   "execution_count": 2,
   "metadata": {
    "collapsed": true
   },
   "outputs": [],
   "source": [
    "# Read the confidential token.\n",
    "credentials = configparser.ConfigParser()\n",
    "credentials.read('credentials.ini')\n",
    "\n",
    "#authentication\n",
    "auth = tweepy.OAuthHandler(credentials.get('twitter', 'consumer_key'), credentials.get('twitter', 'consumer_secret'))\n",
    "auth.set_access_token(credentials.get('twitter', 'access_token'), credentials.get('twitter', 'access_secret'))\n",
    "\n",
    "#construct API instance\n",
    "#deal with rate limits and notify when delayed because of rate limits\n",
    "api = tweepy.API(auth,wait_on_rate_limit=True, wait_on_rate_limit_notify=True)"
   ]
  },
  {
   "cell_type": "markdown",
   "metadata": {},
   "source": [
    "Now you are all set up to start collecting data from Twitter! "
   ]
  },
  {
   "cell_type": "markdown",
   "metadata": {},
   "source": [
    "In this exercise we will construct a network with the following logic:\n",
    "\n",
    "1) We will chose a `user_id` in Twitter to be our first node. \n",
    "\n",
    "2) We will find (some) of the users who are both following `user_id` and are being followed by `user_id`. From now on we will call such users \"connections\" of `user_id`. We will place these user ids in a list called `first_nodes`. \n",
    "\n",
    "3) For every node in the list `first_nodes` we will then find (some) of the users who are following and are being followed by this node (aka the connections of this node). The user ids collected in this step will be placed in a list called `second_nodes`.\n",
    "\n",
    "4) The collection of the ids of all nodes (aka Twitter users) that we have collected so far will be placed in a list called `all_nodes`.\n",
    "\n",
    "5) Since we have only collected a subset of all possible \"connections\" for our nodes we have to check if there are any remaining inner connections that we have missed.\n",
    "\n",
    "The entire network is to be organized in a dictionary with entries that will have as key the Twitter id of the user (this is a number characterizing each user in Twitter) and as value the list of ids of his connections.\n",
    "\n",
    "So, let us begin. The first thing that you will have to do is to chose the node from which everything will start. I have chosen the Twitter account of [Applied Machine Learning Days](https://www.appliedmldays.org) that will take place in January 2018 in EPFL. You may change that if you wish to, but please make sure that the user you chose has both followers and friends and that he allows you to access this data."
   ]
  },
  {
   "cell_type": "code",
   "execution_count": 3,
   "metadata": {
    "collapsed": true
   },
   "outputs": [],
   "source": [
    "user = 'appliedmldays '\n",
    "user_id=api.get_user(user).id"
   ]
  },
  {
   "cell_type": "markdown",
   "metadata": {},
   "source": [
    "In the following cell write a function that takes as an argument the Twitter id of a user and returns a list with the **ids** of his connections. Take into account the case where a user does not allow you to access this information.\n",
    "\n",
    "**Reminder:** By connections we mean users that are both followers and friends of a given user."
   ]
  },
  {
   "cell_type": "code",
   "execution_count": 4,
   "metadata": {
    "collapsed": true
   },
   "outputs": [],
   "source": [
    "def find_connections(user_id):\n",
    "    followers = []\n",
    "    friends=[]\n",
    "    #your code here\n",
    "    for page in tweepy.Cursor(api.followers_ids, user_id = user_id).pages():\n",
    "        followers.extend(page)\n",
    "        time.sleep(60)\n",
    "    for page in tweepy.Cursor(api.friends_ids, user_id = user_id).pages():\n",
    "        friends.extend(page)\n",
    "        time.sleep(60)\n",
    "    connections = list(set(followers) & set(friends))\n",
    "    return connections"
   ]
  },
  {
   "cell_type": "code",
   "execution_count": 5,
   "metadata": {},
   "outputs": [
    {
     "name": "stdout",
     "output_type": "stream",
     "text": [
      "appliedmldays has 139 connections\n"
     ]
    }
   ],
   "source": [
    "first_connections = find_connections(user_id)\n",
    "print('{}has {} connections'.format(user, len(first_connections)))"
   ]
  },
  {
   "cell_type": "markdown",
   "metadata": {},
   "source": [
    "Collect your `first_nodes` and `second_nodes` and organize your collected nodes and their connections in the dictionary called `network`."
   ]
  },
  {
   "cell_type": "markdown",
   "metadata": {},
   "source": [
    "Hints:\n",
    "* Use `random.choice([1,3,4])` to randomly choose a number in `[1, 3, 4]`.\n",
    "* Use the `append` and `remove` methods to add and remove an element from a Python list.\n",
    "* The `pop` method removes the last item in the list."
   ]
  },
  {
   "cell_type": "code",
   "execution_count": 6,
   "metadata": {},
   "outputs": [
    {
     "name": "stdout",
     "output_type": "stream",
     "text": [
      "Original List :\n",
      "[0, 1, 2, 3, 4, 5, 6, 7, 8, 9]\n",
      "Shuffled List :\n",
      "[9, 5, 6, 1, 8, 2, 0, 7, 3, 4]\n"
     ]
    }
   ],
   "source": [
    "#Sample code to show the usage of random.shuffle()\n",
    "\n",
    "#Instead of iteratively smapling the connections using random.choice, I will randomly shuffle the connection list\n",
    "#using random.shuffle and then choose the first 'how_many' elements.\n",
    "\n",
    "#This avoids the possibility of same node/connection being chosen twice.\n",
    "\n",
    "x = [x for x in range(10)]\n",
    "print('Original List :')\n",
    "print(x)\n",
    "random.shuffle(x)\n",
    "print('Shuffled List :')\n",
    "print(x)"
   ]
  },
  {
   "cell_type": "code",
   "execution_count": 7,
   "metadata": {},
   "outputs": [],
   "source": [
    "network={}\n",
    "first_nodes=[]\n",
    "second_nodes=[]\n",
    "how_many=5      #This is the number of connections you are sampling. \n",
    "                #Keep small (e.g.3) for development, larger later (e.g. 10)\n",
    "#your code here\n",
    "\n",
    "random.shuffle(first_connections)\n",
    "first_nodes = first_connections[0:how_many] #Choosing 'how_many' nodes from total connections.\n",
    "\n",
    "second_connections = []\n",
    "\n",
    "for i, node in enumerate(first_nodes):\n",
    "    second_connections.append(find_connections(node))  #Saving the entire second connection for each first node for later use\n",
    "    random.shuffle(second_connections[i])              \n",
    "    second_nodes.append(second_connections[i][0:how_many])  #Choosing 'how_many' nodes from total connections\n",
    "                                                            #and storing them as 2D list so as to associate them with their\n",
    "                                                            #corresponding parent node.\n",
    "                                                            #P.S. Note that second connections have been stored as\n",
    "                                                            #2D list for the same reason."
   ]
  },
  {
   "cell_type": "code",
   "execution_count": 8,
   "metadata": {},
   "outputs": [
    {
     "name": "stdout",
     "output_type": "stream",
     "text": [
      "First Nodes :\n",
      "[24250587, 1275985766, 4066214715, 1106304776, 45099110]\n",
      "Second Nodes :\n",
      "[[1910529589, 40438400, 10993742, 1372516554, 2330574824], [717368511350198272, 3111698671, 18078296, 809274300033155072, 733251835], [1562961949, 836649919393976320, 1626842281, 788312323337363456, 124117158], [1073360120, 261704941, 747542150561341440, 195301167, 2297587010], [2685273937, 3513224901, 760815330923077633, 93399497, 796666787215667200]]\n"
     ]
    }
   ],
   "source": [
    "print('First Nodes :')\n",
    "print(first_nodes)\n",
    "print('Second Nodes :')\n",
    "print(second_nodes)"
   ]
  },
  {
   "cell_type": "markdown",
   "metadata": {},
   "source": [
    "**Be careful!** You should only keep a small value for the `how_many` parameter while you are developing your code. In order to answer to the questions you should raise the value of this parameter to `how_many=10` at least. This will take a while to execute because of the API rate limit (plan your time accordingly). You should also remember to submit your jupyter notebook with the **output shown for a large value of the `how_many` parameter**. "
   ]
  },
  {
   "cell_type": "code",
   "execution_count": 9,
   "metadata": {
    "collapsed": true
   },
   "outputs": [],
   "source": [
    "network[user_id] = first_nodes #Creating root node for graph."
   ]
  },
  {
   "cell_type": "code",
   "execution_count": 10,
   "metadata": {},
   "outputs": [
    {
     "name": "stdout",
     "output_type": "stream",
     "text": [
      "{763052115392593920: [24250587, 1275985766, 4066214715, 1106304776, 45099110]}\n"
     ]
    }
   ],
   "source": [
    "pprint(network)"
   ]
  },
  {
   "cell_type": "code",
   "execution_count": 11,
   "metadata": {},
   "outputs": [
    {
     "name": "stdout",
     "output_type": "stream",
     "text": [
      "[1910529589, 40438400, 10993742, 1372516554, 2330574824, 717368511350198272, 3111698671, 18078296, 809274300033155072, 733251835, 1562961949, 836649919393976320, 1626842281, 788312323337363456, 124117158, 1073360120, 261704941, 747542150561341440, 195301167, 2297587010, 2685273937, 3513224901, 760815330923077633, 93399497, 796666787215667200]\n",
      "0\n",
      "1\n",
      "2\n",
      "3\n",
      "4\n",
      "5\n",
      "6\n",
      "7\n",
      "8\n",
      "9\n",
      "10\n",
      "11\n",
      "12\n",
      "13\n",
      "14\n",
      "15\n",
      "16\n",
      "17\n",
      "18\n",
      "19\n",
      "20\n",
      "21\n",
      "22\n",
      "23\n",
      "24\n"
     ]
    }
   ],
   "source": [
    "#Since second nodes are stored as 2D list, I unravel them to iterate more easily.\n",
    "second_nodes_flat = [x for sublist in second_nodes for x in sublist]\n",
    "print(second_nodes_flat)\n",
    "\n",
    "#Finding third connections of all second_nodes.\n",
    "third_connections = []\n",
    "for i, node in enumerate(second_nodes_flat):\n",
    "    print(i)\n",
    "    third_connections.append(find_connections(node))"
   ]
  },
  {
   "cell_type": "code",
   "execution_count": 12,
   "metadata": {},
   "outputs": [
    {
     "name": "stdout",
     "output_type": "stream",
     "text": [
      "25\n"
     ]
    }
   ],
   "source": [
    "print(len(third_connections))"
   ]
  },
  {
   "cell_type": "code",
   "execution_count": 13,
   "metadata": {},
   "outputs": [
    {
     "name": "stdout",
     "output_type": "stream",
     "text": [
      "[40438400, 717368511350198272, 809274300033155072, 836649919393976320, 788312323337363456, 747542150561341440, 760815330923077633, 796666787215667200, 1106304776, 763052115392593920, 1562961949, 124117158, 1626842281, 195301167, 1910529589, 4066214715, 2297587010, 3513224901, 93399497, 1372516554, 10993742, 2685273937, 18078296, 24250587, 45099110, 1275985766, 2330574824, 261704941, 3111698671, 1073360120, 733251835]\n"
     ]
    }
   ],
   "source": [
    "u_id = [user_id]\n",
    "all_nodes = list(set(first_nodes) | set(second_nodes_flat) | set(u_id)) #Creating the list all_nodes.\n",
    "print(all_nodes)"
   ]
  },
  {
   "cell_type": "code",
   "execution_count": 14,
   "metadata": {},
   "outputs": [
    {
     "name": "stdout",
     "output_type": "stream",
     "text": [
      "There are 5 first hop nodes\n",
      "There are 25 second hop nodes\n",
      "There are overall 31 nodes in the collected network\n"
     ]
    }
   ],
   "source": [
    "print('There are {} first hop nodes'.format(len(first_nodes)))\n",
    "#print('There are {} second hop nodes'.format(len(second_nodes)))\n",
    "print('There are {} second hop nodes'.format(len(second_nodes_flat)))\n",
    "print('There are overall {} nodes in the collected network'.format(len(all_nodes)))"
   ]
  },
  {
   "cell_type": "code",
   "execution_count": 15,
   "metadata": {},
   "outputs": [
    {
     "name": "stdout",
     "output_type": "stream",
     "text": [
      "{24250587: [1910529589, 40438400, 10993742, 1372516554, 2330574824],\n",
      " 45099110: [2685273937,\n",
      "            3513224901,\n",
      "            760815330923077633,\n",
      "            93399497,\n",
      "            796666787215667200],\n",
      " 1106304776: [1073360120, 261704941, 747542150561341440, 195301167, 2297587010],\n",
      " 1275985766: [717368511350198272,\n",
      "              3111698671,\n",
      "              18078296,\n",
      "              809274300033155072,\n",
      "              733251835],\n",
      " 4066214715: [1562961949,\n",
      "              836649919393976320,\n",
      "              1626842281,\n",
      "              788312323337363456,\n",
      "              124117158],\n",
      " 763052115392593920: [24250587, 1275985766, 4066214715, 1106304776, 45099110]}\n"
     ]
    }
   ],
   "source": [
    "for i, node in enumerate(first_nodes):\n",
    "    network[node] = second_nodes[i]    #Extending the network by including branches of first node.\n",
    "pprint(network)"
   ]
  },
  {
   "cell_type": "code",
   "execution_count": 16,
   "metadata": {},
   "outputs": [
    {
     "name": "stdout",
     "output_type": "stream",
     "text": [
      "{10993742: [],\n",
      " 18078296: [],\n",
      " 24250587: [1910529589, 40438400, 10993742, 1372516554, 2330574824],\n",
      " 40438400: [],\n",
      " 45099110: [2685273937,\n",
      "            3513224901,\n",
      "            760815330923077633,\n",
      "            93399497,\n",
      "            796666787215667200],\n",
      " 93399497: [],\n",
      " 124117158: [],\n",
      " 195301167: [],\n",
      " 261704941: [],\n",
      " 733251835: [],\n",
      " 1073360120: [],\n",
      " 1106304776: [1073360120, 261704941, 747542150561341440, 195301167, 2297587010],\n",
      " 1275985766: [717368511350198272,\n",
      "              3111698671,\n",
      "              18078296,\n",
      "              809274300033155072,\n",
      "              733251835],\n",
      " 1372516554: [],\n",
      " 1562961949: [],\n",
      " 1626842281: [],\n",
      " 1910529589: [],\n",
      " 2297587010: [],\n",
      " 2330574824: [],\n",
      " 2685273937: [],\n",
      " 3111698671: [],\n",
      " 3513224901: [],\n",
      " 4066214715: [1562961949,\n",
      "              836649919393976320,\n",
      "              1626842281,\n",
      "              788312323337363456,\n",
      "              124117158],\n",
      " 717368511350198272: [],\n",
      " 747542150561341440: [],\n",
      " 760815330923077633: [],\n",
      " 763052115392593920: [24250587, 1275985766, 4066214715, 1106304776, 45099110],\n",
      " 788312323337363456: [],\n",
      " 796666787215667200: [],\n",
      " 809274300033155072: [],\n",
      " 836649919393976320: []}\n"
     ]
    }
   ],
   "source": [
    "for node in second_nodes_flat:\n",
    "    if (node != user_id and node not in first_nodes):\n",
    "        network[node]=[]    #Currently, not going beyond the second nodes.\n",
    "pprint(network)"
   ]
  },
  {
   "cell_type": "markdown",
   "metadata": {},
   "source": [
    "Find the inner connections between your collected nodes that you might have missed because you sampled the connections."
   ]
  },
  {
   "cell_type": "code",
   "execution_count": 17,
   "metadata": {
    "collapsed": true
   },
   "outputs": [],
   "source": [
    "for node in second_nodes_flat:\n",
    "    if node in first_connections:                      #Inner connection between second node and root node.\n",
    "        network[node].append(user_id)\n",
    "    for i in range(len(second_connections)):           #Inner connection between second node and some other first node\n",
    "        sc = second_connections[i]                     #which might not be the parent node.\n",
    "        if node in sc:\n",
    "            network[node].append(first_nodes[i])\n",
    "    for j in range(len(third_connections)):            #Inner connection between two different second nodes.\n",
    "        tc = third_connections[j]\n",
    "        if node in tc:\n",
    "            network[node].append(second_nodes_flat[j])"
   ]
  },
  {
   "cell_type": "code",
   "execution_count": 18,
   "metadata": {
    "collapsed": true
   },
   "outputs": [],
   "source": [
    "for node in first_nodes:                               \n",
    "    for i in range(len(second_connections)):           #Inner connection between two different first nodes\n",
    "        sc = second_connections[i]\n",
    "        if node in sc:\n",
    "            network[node].append(first_nodes[i])"
   ]
  },
  {
   "cell_type": "code",
   "execution_count": 19,
   "metadata": {},
   "outputs": [
    {
     "name": "stdout",
     "output_type": "stream",
     "text": [
      "{10993742: [24250587],\n",
      " 18078296: [1275985766],\n",
      " 24250587: [1910529589, 40438400, 10993742, 1372516554, 2330574824],\n",
      " 40438400: [24250587, 2330574824],\n",
      " 45099110: [2685273937,\n",
      "            3513224901,\n",
      "            760815330923077633,\n",
      "            93399497,\n",
      "            796666787215667200],\n",
      " 93399497: [45099110],\n",
      " 124117158: [4066214715],\n",
      " 195301167: [763052115392593920, 1106304776],\n",
      " 261704941: [1106304776, 747542150561341440],\n",
      " 733251835: [1275985766],\n",
      " 1073360120: [1106304776],\n",
      " 1106304776: [1073360120, 261704941, 747542150561341440, 195301167, 2297587010],\n",
      " 1275985766: [717368511350198272,\n",
      "              3111698671,\n",
      "              18078296,\n",
      "              809274300033155072,\n",
      "              733251835],\n",
      " 1372516554: [24250587, 1910529589, 2330574824],\n",
      " 1562961949: [4066214715],\n",
      " 1626842281: [4066214715],\n",
      " 1910529589: [24250587, 1372516554, 2330574824],\n",
      " 2297587010: [1106304776, 747542150561341440],\n",
      " 2330574824: [24250587, 1910529589, 40438400, 1372516554],\n",
      " 2685273937: [45099110],\n",
      " 3111698671: [1275985766],\n",
      " 3513224901: [45099110],\n",
      " 4066214715: [1562961949,\n",
      "              836649919393976320,\n",
      "              1626842281,\n",
      "              788312323337363456,\n",
      "              124117158],\n",
      " 717368511350198272: [1275985766],\n",
      " 747542150561341440: [1106304776, 261704941, 2297587010],\n",
      " 760815330923077633: [45099110],\n",
      " 763052115392593920: [24250587, 1275985766, 4066214715, 1106304776, 45099110],\n",
      " 788312323337363456: [4066214715],\n",
      " 796666787215667200: [45099110],\n",
      " 809274300033155072: [1275985766],\n",
      " 836649919393976320: [4066214715]}\n"
     ]
    }
   ],
   "source": [
    "pprint(network)"
   ]
  },
  {
   "cell_type": "markdown",
   "metadata": {},
   "source": [
    "# 2. Discover some of the properties of the collected network"
   ]
  },
  {
   "cell_type": "markdown",
   "metadata": {},
   "source": [
    "## 2.1 Adjacency matrix"
   ]
  },
  {
   "cell_type": "markdown",
   "metadata": {},
   "source": [
    "Congradulations! You have now created a dictionary that describes a real Twitter network!\n",
    "We now want to transform this dictionary into the adjacency (or weight) matrix that you learned about in your first class. "
   ]
  },
  {
   "cell_type": "code",
   "execution_count": 20,
   "metadata": {
    "collapsed": true
   },
   "outputs": [],
   "source": [
    "W=np.zeros([len(all_nodes),len(all_nodes)], dtype=int)"
   ]
  },
  {
   "cell_type": "code",
   "execution_count": 21,
   "metadata": {
    "collapsed": true
   },
   "outputs": [],
   "source": [
    "# your code here\n",
    "for i in range(len(all_nodes)):\n",
    "    for node in network[all_nodes[i]]:\n",
    "        j = all_nodes.index(node)\n",
    "        W[i][j] = 1\n",
    "        W[j][i] = 1   #If i is connection of j, then j is also connection of i."
   ]
  },
  {
   "cell_type": "markdown",
   "metadata": {},
   "source": [
    "Remember that a weight matrix should be symmetric. Check if it is:"
   ]
  },
  {
   "cell_type": "code",
   "execution_count": 22,
   "metadata": {},
   "outputs": [
    {
     "data": {
      "text/plain": [
       "(array([], dtype=int64), array([], dtype=int64))"
      ]
     },
     "execution_count": 22,
     "metadata": {},
     "output_type": "execute_result"
    }
   ],
   "source": [
    "np.nonzero(W-W.transpose())"
   ]
  },
  {
   "cell_type": "markdown",
   "metadata": {},
   "source": [
    "**Question 1:**\n",
    "It might happen that $W \\neq W^{T} $ for some $(i,j)$. Explain why this might be the case."
   ]
  },
  {
   "cell_type": "markdown",
   "metadata": {},
   "source": [
    "**Your answer here:** My adjacency matrix is already symmetric."
   ]
  },
  {
   "cell_type": "markdown",
   "metadata": {},
   "source": [
    "Impose your weight matrix to be symmetric."
   ]
  },
  {
   "cell_type": "code",
   "execution_count": null,
   "metadata": {
    "collapsed": true
   },
   "outputs": [],
   "source": [
    "# Make W is symmetric\n",
    "bigger = W.transpose() > W"
   ]
  },
  {
   "cell_type": "code",
   "execution_count": null,
   "metadata": {
    "collapsed": true
   },
   "outputs": [],
   "source": [
    "W = W - W*bigger + W.transpose()*bigger"
   ]
  },
  {
   "cell_type": "markdown",
   "metadata": {},
   "source": [
    "Plot the weight matrix of your collected network.\n",
    "\n",
    "Hint: use `plt.spy()` to visualize a matrix."
   ]
  },
  {
   "cell_type": "code",
   "execution_count": 23,
   "metadata": {},
   "outputs": [
    {
     "data": {
      "text/plain": [
       "<matplotlib.image.AxesImage at 0x14bb04eb940>"
      ]
     },
     "execution_count": 23,
     "metadata": {},
     "output_type": "execute_result"
    },
    {
     "data": {
      "image/png": "[encoded data removed]",
      "text/plain": [
       "<matplotlib.figure.Figure at 0x14bb1670a58>"
      ]
     },
     "metadata": {},
     "output_type": "display_data"
    }
   ],
   "source": [
    "# your code here\n",
    "plt.title('Adjacency Matrix W')\n",
    "plt.spy(W)"
   ]
  },
  {
   "cell_type": "markdown",
   "metadata": {},
   "source": [
    "**Question 2:**\n",
    "What is the maximum number of links $L_{max}$ in a network with $N$ nodes (where $N$ is the number of nodes in your collected network)? How many links $L$ are there in your collected network? Comment on how $L$ and $L_{max}$ compare."
   ]
  },
  {
   "cell_type": "markdown",
   "metadata": {},
   "source": [
    "**Your answer here:**\n",
    "\n",
    "Theoretically,\n",
    "$L_{max} = \\frac{N * (N - 1)}{2}$"
   ]
  },
  {
   "cell_type": "code",
   "execution_count": 24,
   "metadata": {},
   "outputs": [
    {
     "name": "stdout",
     "output_type": "stream",
     "text": [
      "465.0\n"
     ]
    }
   ],
   "source": [
    "N = W.shape[0]\n",
    "L_max = N * (N - 1) / 2\n",
    "print(L_max)"
   ]
  },
  {
   "cell_type": "markdown",
   "metadata": {},
   "source": [
    "$L$ can be counted from the adjacency matrix as total number of ones in the upper triangular part of the matrix."
   ]
  },
  {
   "cell_type": "code",
   "execution_count": 25,
   "metadata": {},
   "outputs": [
    {
     "name": "stdout",
     "output_type": "stream",
     "text": [
      "37.0\n"
     ]
    }
   ],
   "source": [
    "L = sum(sum(W)) / 2\n",
    "print(L)"
   ]
  },
  {
   "cell_type": "markdown",
   "metadata": {},
   "source": [
    "Obviously, $L << L_{max}$.\n",
    "This is because, in real world, everyone doesn't know everyone else."
   ]
  },
  {
   "cell_type": "markdown",
   "metadata": {},
   "source": [
    "## 2.2 Degrees distribution"
   ]
  },
  {
   "cell_type": "markdown",
   "metadata": {},
   "source": [
    "Plot a histogram of the degree distribution. "
   ]
  },
  {
   "cell_type": "code",
   "execution_count": 26,
   "metadata": {
    "collapsed": true
   },
   "outputs": [],
   "source": [
    "k = W.sum(axis = 0)             #Take sum across rows of W (a.k.a vertically), k[i] would be the degree of node i.\n",
    "k_range = np.zeros((N-1))\n",
    "support = np.array([x for x in range(N-1)])\n",
    "for ele in k:\n",
    "    k_range[ele] += 1\n",
    "k_range /= N"
   ]
  },
  {
   "cell_type": "code",
   "execution_count": 27,
   "metadata": {},
   "outputs": [
    {
     "data": {
      "text/plain": [
       "<Container object of 30 artists>"
      ]
     },
     "execution_count": 27,
     "metadata": {},
     "output_type": "execute_result"
    },
    {
     "data": {
      "image/png": "[encoded data removed]",
      "text/plain": [
       "<matplotlib.figure.Figure at 0x14bb1bb96a0>"
      ]
     },
     "metadata": {},
     "output_type": "display_data"
    }
   ],
   "source": [
    "fig = plt.figure()\n",
    "fig.suptitle('Degree Distribution')\n",
    "plt.xlabel('Degree')\n",
    "plt.ylabel('Fraction of Nodes')\n",
    "plt.bar(support, height = k_range)"
   ]
  },
  {
   "cell_type": "markdown",
   "metadata": {},
   "source": [
    "**Question 3:** Comment on the plot. What do you observe? Would you expect a similar degree disribution in the complete Twitter network?"
   ]
  },
  {
   "cell_type": "markdown",
   "metadata": {},
   "source": [
    "**Your answer here:** The network here seems to have a large number of nodes with less degree and fewer nodes with high degree. The complete Twitter network would likely be scale free and follow the power law, meaning that hubs in the network wouldn't be uncommon. Since I have taken only two layers down my root node and further sampled them down, hence this distribution isn't representative of the power law because data is too less. With more number of nodes, hubs would be visible more and more."
   ]
  },
  {
   "cell_type": "markdown",
   "metadata": {},
   "source": [
    "## 2.3 Average degree"
   ]
  },
  {
   "cell_type": "markdown",
   "metadata": {},
   "source": [
    "Calculate the average degree of your collected network."
   ]
  },
  {
   "cell_type": "code",
   "execution_count": 35,
   "metadata": {},
   "outputs": [
    {
     "name": "stdout",
     "output_type": "stream",
     "text": [
      "Average Degree calculated using formula: 2.3870967741935485\n",
      "Average Degree calculated using adjacency matrix: 2.387096774193548\n"
     ]
    }
   ],
   "source": [
    "d_avg1 = (2 * L) / N\n",
    "d_avg2 = sum(support*k_range)\n",
    "print('Average Degree calculated using formula: {}'.format(d_avg1))\n",
    "print('Average Degree calculated using adjacency matrix: {}'.format(d_avg2))"
   ]
  },
  {
   "cell_type": "markdown",
   "metadata": {},
   "source": [
    "## 2.4 Diameter of the collected network"
   ]
  },
  {
   "cell_type": "markdown",
   "metadata": {},
   "source": [
    "**Question 4:** What is the diameter of the collected network? Please justify."
   ]
  },
  {
   "cell_type": "markdown",
   "metadata": {},
   "source": [
    "**Your answer here:** As we can see from the output of the cell below, the diameter of network is 4. This is because the maximum distance between 2 nodes from the second layer would be one hop to the first layer, next hop to the root node, next hop back to some other node in first layer and a final hop to the destination node in second layer. Hence, 4 hops is completely justified."
   ]
  },
  {
   "cell_type": "code",
   "execution_count": 36,
   "metadata": {
    "collapsed": true
   },
   "outputs": [],
   "source": [
    "import networkx as nx"
   ]
  },
  {
   "cell_type": "code",
   "execution_count": 49,
   "metadata": {},
   "outputs": [
    {
     "name": "stdout",
     "output_type": "stream",
     "text": [
      "Diameter is 4\n"
     ]
    }
   ],
   "source": [
    "G = nx.from_numpy_matrix(W)\n",
    "diameter = nx.diameter(G)\n",
    "print('Diameter is {}'.format(diameter))"
   ]
  },
  {
   "cell_type": "code",
   "execution_count": 50,
   "metadata": {},
   "outputs": [
    {
     "data": {
      "text/plain": [
       "<matplotlib.colorbar.Colorbar at 0x14bb2c0b550>"
      ]
     },
     "execution_count": 50,
     "metadata": {},
     "output_type": "execute_result"
    },
    {
     "data": {
      "image/png": "[encoded data removed]",
      "text/plain": [
       "<matplotlib.figure.Figure at 0x14bb2c24fd0>"
      ]
     },
     "metadata": {},
     "output_type": "display_data"
    }
   ],
   "source": [
    "import scipy\n",
    "\n",
    "fig = plt.figure()\n",
    "fig.suptitle('Shortest Path Length between any two nodes')\n",
    "plt.xlabel('Node')\n",
    "plt.ylabel('Node')\n",
    "plt.imshow(scipy.sparse.csgraph.shortest_path(W, directed = False))\n",
    "plt.colorbar()"
   ]
  },
  {
   "cell_type": "markdown",
   "metadata": {},
   "source": [
    "## 2.5 Pruning the collected network"
   ]
  },
  {
   "cell_type": "markdown",
   "metadata": {},
   "source": [
    "You might notice that some nodes have very few connections and hence our matrix is very sparse. Prune the collected network so that you keep only the nodes that have a degree that is greater than the average degree and plot the new adjacency matrix."
   ]
  },
  {
   "cell_type": "code",
   "execution_count": 31,
   "metadata": {},
   "outputs": [
    {
     "name": "stdout",
     "output_type": "stream",
     "text": [
      "(array([ 0,  1,  2,  3,  4,  6,  7, 10, 11, 12, 13, 16, 17, 18, 20, 21, 22,\n",
      "       27, 28, 29, 30], dtype=int64),)\n"
     ]
    }
   ],
   "source": [
    "del_indices = np.where(k <= d_avg1)\n",
    "print(del_indices)"
   ]
  },
  {
   "cell_type": "code",
   "execution_count": 32,
   "metadata": {},
   "outputs": [
    {
     "data": {
      "text/plain": [
       "(10, 10)"
      ]
     },
     "execution_count": 32,
     "metadata": {},
     "output_type": "execute_result"
    }
   ],
   "source": [
    "Wpruned = W\n",
    "for i in del_indices:\n",
    "    w1 = np.delete(Wpruned, i, 0)\n",
    "    w1 = np.delete(w1, i, 1)\n",
    "    Wpruned = w1\n",
    "Wpruned.shape"
   ]
  },
  {
   "cell_type": "code",
   "execution_count": 33,
   "metadata": {
    "collapsed": true
   },
   "outputs": [],
   "source": [
    "#Wpruned = # your code here"
   ]
  },
  {
   "cell_type": "code",
   "execution_count": 34,
   "metadata": {},
   "outputs": [
    {
     "data": {
      "image/png": "[encoded data removed]",
      "text/plain": [
       "<matplotlib.figure.Figure at 0x14bb256e518>"
      ]
     },
     "metadata": {},
     "output_type": "display_data"
    }
   ],
   "source": [
    "#plt.spy(Wpruned, markersize=1)\n",
    "plt.spy(Wpruned)\n",
    "plt.title('Adjacency Matrix W');"
   ]
  },
  {
   "cell_type": "code",
   "execution_count": null,
   "metadata": {
    "collapsed": true
   },
   "outputs": [],
   "source": []
  }
 ],
 "metadata": {
  "kernelspec": {
   "display_name": "Python 3",
   "language": "python",
   "name": "python3"
  },
  "language_info": {
   "codemirror_mode": {
    "name": "ipython",
    "version": 3
   },
   "file_extension": ".py",
   "mimetype": "text/x-python",
   "name": "python",
   "nbconvert_exporter": "python",
   "pygments_lexer": "ipython3",
   "version": "3.6.1"
  }
 },
 "nbformat": 4,
 "nbformat_minor": 1
}
