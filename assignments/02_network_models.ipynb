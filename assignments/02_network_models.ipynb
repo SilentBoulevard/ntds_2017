{
 "cells": [
  {
   "cell_type": "markdown",
   "metadata": {},
   "source": [
    "# [NTDS'17] assignment 2: network models\n",
    "[ntds'17]: https://github.com/mdeff/ntds_2017\n",
    "\n",
    "[Hermina Petric Maretic](https://people.epfl.ch/hermina.petricmaretic), [EPFL LTS4](http://lts4.epfl.ch)"
   ]
  },
  {
   "cell_type": "markdown",
   "metadata": {},
   "source": [
    "For this assignment we will work on a network representing the collaboration between scientists in the field of General Relativity and Quantum Cosmology. The network comes from [SNAP](http://snap.stanford.edu/data/ca-GrQc.html) and is described as follows:\n",
    "\n",
    "> Arxiv GR-QC (General Relativity and Quantum Cosmology) collaboration network is from the e-print [arXiv](https://arxiv.org) and covers scientific collaborations between authors papers submitted to General Relativity and Quantum Cosmology category. If an author *i* co-authored a paper with author *j*, the graph contains a undirected edge from *i* to *j*. If the paper is co-authored by *k* authors this generates a completely connected (sub)graph on *k* nodes. The data covers papers in the period from January 1993 to April 2003 (124 months). It begins within a few months of the inception of the arXiv."
   ]
  },
  {
   "cell_type": "code",
   "execution_count": 1,
   "metadata": {
    "collapsed": true
   },
   "outputs": [],
   "source": [
    "%matplotlib inline\n",
    "\n",
    "import os\n",
    "import random\n",
    "import matplotlib.pyplot as plt\n",
    "import networkx as nx\n",
    "import numpy as np\n",
    "import warnings\n",
    "\n",
    "warnings.filterwarnings('ignore')"
   ]
  },
  {
   "cell_type": "code",
   "execution_count": 2,
   "metadata": {
    "collapsed": true
   },
   "outputs": [],
   "source": [
    "G = nx.read_edgelist(os.path.join('..', 'data', 'arxiv_collaboration_network.txt'))"
   ]
  },
  {
   "cell_type": "code",
   "execution_count": 3,
   "metadata": {},
   "outputs": [
    {
     "name": "stdout",
     "output_type": "stream",
     "text": [
      "My network has 5242 nodes.\n",
      "My network has 14496 edges.\n"
     ]
    }
   ],
   "source": [
    "print('My network has {} nodes.'.format(len(G.nodes())))\n",
    "print('My network has {} edges.'.format(G.size()))"
   ]
  },
  {
   "cell_type": "markdown",
   "metadata": {},
   "source": [
    "## 1. Comparing to model networks"
   ]
  },
  {
   "cell_type": "markdown",
   "metadata": {},
   "source": [
    "1.1 In this part of the assignment, you have to create an Erdős–Rényi and Barabási-Albert graph using NetworkX, and compare them to the collaboration network. Try to simulate the original network as best as you can. When choosing parameters for the networks, take into account the number of vertices and edges of the original network. The number of vertices should be exactly the same. Comment on your choice of parameters."
   ]
  },
  {
   "cell_type": "code",
   "execution_count": 4,
   "metadata": {
    "collapsed": true
   },
   "outputs": [],
   "source": [
    "# Your code here.\n",
    "V = len(G.nodes())\n",
    "E = G.size()"
   ]
  },
  {
   "cell_type": "code",
   "execution_count": 5,
   "metadata": {
    "collapsed": true
   },
   "outputs": [],
   "source": [
    "#For Erdos Renyi Graph\n",
    "#Expected number of edges = Total possible edges * probability of forming an edge between any two nodes\n",
    "p = E / (V * (V - 1) / 2)\n",
    "er = nx.erdos_renyi_graph(V, p)"
   ]
  },
  {
   "cell_type": "code",
   "execution_count": 6,
   "metadata": {
    "collapsed": true
   },
   "outputs": [],
   "source": [
    "#For Barabasi Albert Graph\n",
    "#Number of links = m * Number of nodes\n",
    "if np.modf(E / V)[0] > 0.5:\n",
    "    m = int(np.ceil(E / V))\n",
    "else:\n",
    "    m = int(np.floor(E / V))\n",
    "ba = nx.barabasi_albert_graph(V, m)"
   ]
  },
  {
   "cell_type": "markdown",
   "metadata": {},
   "source": [
    "**Your answer here.**"
   ]
  },
  {
   "cell_type": "code",
   "execution_count": 7,
   "metadata": {},
   "outputs": [
    {
     "name": "stdout",
     "output_type": "stream",
     "text": [
      "My Erdős–Rényi network has 5242 nodes.\n",
      "My Erdős–Rényi network has 14675 edges.\n",
      "My Barabási-Albert network has 5242 nodes.\n",
      "My Barabási-Albert network has 15717 edges.\n"
     ]
    }
   ],
   "source": [
    "print('My Erdős–Rényi network has {} nodes.'.format(len(er.nodes())))\n",
    "print('My Erdős–Rényi network has {} edges.'.format(er.size()))\n",
    "print('My Barabási-Albert network has {} nodes.'.format(len(ba.nodes())))\n",
    "print('My Barabási-Albert network has {} edges.'.format(ba.size()))"
   ]
  },
  {
   "cell_type": "markdown",
   "metadata": {},
   "source": [
    "1.2 Check the size of the largest connected component in each graph and compare them to the original network. In the Erdős–Rényi model, what should the probability of creating each edge be in order to have the same expected size of the largest component? Justify. Generate a graph with this parameter to check if you indeed get a similar value."
   ]
  },
  {
   "cell_type": "code",
   "execution_count": 8,
   "metadata": {},
   "outputs": [
    {
     "name": "stdout",
     "output_type": "stream",
     "text": [
      "4158\n",
      "5219\n",
      "5242\n"
     ]
    }
   ],
   "source": [
    "giant_G = max(nx.connected_component_subgraphs(G), key=len)\n",
    "giant_er = max(nx.connected_component_subgraphs(er), key=len)\n",
    "giant_ba = max(nx.connected_component_subgraphs(ba), key=len)\n",
    "print(len(giant_G.nodes()))\n",
    "print(len(giant_er.nodes()))\n",
    "print(len(giant_ba.nodes()))"
   ]
  },
  {
   "cell_type": "markdown",
   "metadata": {},
   "source": [
    "Let fraction of nodes not in giant component (GC) be $u = 1 - \\frac{N_{g}}{N}$\n",
    "\n",
    "- for node $i$ not to be part of GC, it has either no link with node $j$ in the GC (probability $1 - p$) or it has a link with $j$, which is however not in the GC (probability $pu$)\n",
    "- hence, the probability that node $i$ is not linked to GC via any other node $j$ is $u = (1 - p + pu)^{N - 1}$"
   ]
  },
  {
   "cell_type": "code",
   "execution_count": 9,
   "metadata": {
    "collapsed": true
   },
   "outputs": [],
   "source": [
    "V_G_or = len(giant_G.nodes())\n",
    "s = V_G_or / V\n",
    "u = 1 - s\n",
    "num = np.power(u, (1 / (V - 1))) - 1\n",
    "den = u - 1\n",
    "p_giant = num / den\n",
    "er_new = nx.erdos_renyi_graph(V, p_giant)\n",
    "giant_er_new = max(nx.connected_component_subgraphs(er_new), key=len)"
   ]
  },
  {
   "cell_type": "markdown",
   "metadata": {},
   "source": [
    "**Your answer here.**"
   ]
  },
  {
   "cell_type": "code",
   "execution_count": 10,
   "metadata": {},
   "outputs": [
    {
     "name": "stdout",
     "output_type": "stream",
     "text": [
      "The parameter p for an Erdős–Rényi network with the same expected size of the giant component is 0.00037905457554677585.\n",
      "The size of the component in a randomly generated network with this parameter is 4131.\n"
     ]
    }
   ],
   "source": [
    "# Your code here.\n",
    "print('The parameter p for an Erdős–Rényi network with the same expected size of the giant component is {}.'.format(p_giant))\n",
    "\n",
    "# Your code here.\n",
    "print('The size of the component in a randomly generated network with this parameter is {}.'.format(len(giant_er_new.nodes())))"
   ]
  },
  {
   "cell_type": "markdown",
   "metadata": {},
   "source": [
    "1.3 Look at the clustering coefficient of the original network. Is there a network model we talked about that could have a clustering coefficient that is close? Explain."
   ]
  },
  {
   "cell_type": "code",
   "execution_count": 11,
   "metadata": {},
   "outputs": [
    {
     "name": "stdout",
     "output_type": "stream",
     "text": [
      "Clustering coefficient of Original Graph : 0.529635811052136\n",
      "Clustering coefficient of Erdos Graph : 0.0008340614407001275\n",
      "Clustering coefficient of Barabasi Graph : 0.007921381290157814\n"
     ]
    }
   ],
   "source": [
    "print('Clustering coefficient of Original Graph : {}'.format(nx.average_clustering(G)))\n",
    "print('Clustering coefficient of Erdos Graph : {}'.format(nx.average_clustering(er)))\n",
    "print('Clustering coefficient of Barabasi Graph : {}'.format(nx.average_clustering(ba)))"
   ]
  },
  {
   "cell_type": "markdown",
   "metadata": {},
   "source": [
    "**Your answer here.** Maybe the Bianconi Barabasi Model can have closer clustering coefficient since it accounts for the fact that nodes with different internal characteristics acquire links at different rate which is determined by its `fitness`. `Fitness` of a research publication allows us to measure its future impact. While most research papers acquire only a few citations, a small number of publications collect thousands and even tens of thousands of citations. This extended ability to calculate fitness makes Bianconi Barabasi Model emulate the network much better."
   ]
  },
  {
   "cell_type": "markdown",
   "metadata": {},
   "source": [
    "## 2. Creating a network with a predefined degree distribution"
   ]
  },
  {
   "cell_type": "markdown",
   "metadata": {},
   "source": [
    "In this part of the assignment, you will have to create a random network from a predefined degree distribution. There are several network models which can create a random network with the exact same degree distribution as the original, or with the same expected distribution as the original. Refer to section 4.8 of [the Barabási book](http://networksciencebook.com) for more information."
   ]
  },
  {
   "cell_type": "markdown",
   "metadata": {},
   "source": [
    "One of the most famous ones is the configuration model. The model for a graph with $L$ edges in total is constructed in the following steps:\n",
    "\n",
    "- Assign a degree to each node, represented as stubs (half-links). The degree sequence is either generated analytically from a preselected distribution, or it is extracted from the adjacency matrix of a real network. Note that we must start from an even number of stubs to avoid being left with unpaired stubs.\n",
    "- Randomly select a stub pair and connect them. Then randomly choose another pair from the remaining $2L - 2$ stubs and connect them. This procedure is repeated until all stubs are paired up.\n",
    "\n",
    "*Reminder:* A stub is a half-link, representing the half of an edge. It contains one node and can be paired up with another stub to create an edge (between the two corresponding nodes)."
   ]
  },
  {
   "cell_type": "markdown",
   "metadata": {},
   "source": [
    "2.1 However, this model allows for the creation of multi-links (multiple edges between the same pair of vertices) and self-loops, thus leading to a non-simple graph. In this assignment, you will implement a greedy configuration model, to avoid these problems.\n",
    "\n",
    "The algorithm goes as follows:\n",
    "- Extract the degree sequence from our collaboration network.\n",
    "- Assign a target degree to each node, represented as stubs or half-links. Use the degree sequence extracted from the collaboration network.\n",
    "- Sort the nodes by degree. \n",
    "    - Pick the node with the highest target degree. Delete all its stubs from the list of stubs to make sure we don't create a self loop.\n",
    "    - Until all its weighted degree equals its target degree: \n",
    "        - Randomly select one stub from the list of stubs (corresponding to one of the other nodes), and connect these two nodes. In case the two chosen nodes are already connected, simply increase the weight of this edge by one. Be careful to randomly select from stubs and not from nodes, as this means the chances of selecting a node will be proportional to its target degree.\n",
    "    - When the number of edges adjacent to this node corresponds to its target degree, go on to the second node in the list. \n",
    "    - Repeate this procedure until all stubs are paired up, or there is only one node left with a pair number of stubs. In that case, don't create a self-loop, but discard the stubs.\n",
    "    \n",
    "*Hints*: \n",
    " - Use `nx.empty_graph()` to create an empty graph.\n",
    " - Use `G.add_edge(node1,node2,weight = 1)` to add an edge to a weighted graph.\n",
    " - Use `G.edge[node1][node2]['weight'] += 1` to increment the weight of an edge by one."
   ]
  },
  {
   "cell_type": "code",
   "execution_count": 12,
   "metadata": {
    "collapsed": true,
    "scrolled": true
   },
   "outputs": [],
   "source": [
    "from itertools import chain\n",
    "\n",
    "chaini = chain.from_iterable\n",
    "\n",
    "def _to_stublist(degree_sequence):\n",
    "    \"\"\"\n",
    "    This function returns a list of node numbers with multiplicities\n",
    "    according to the given degree sequence. For example, if the first\n",
    "    element of ``degree_sequence`` is ``3``, then the first node number,\n",
    "    ``0``, will appear at the head of the returned list three times. The\n",
    "    node numbers are assumed to be the numbers zero through\n",
    "    ``len(degree_sequence) - 1``.\n",
    "    \n",
    "    \"\"\"\n",
    "    return list(chaini([n] * d for n, d in enumerate(degree_sequence)))"
   ]
  },
  {
   "cell_type": "code",
   "execution_count": 13,
   "metadata": {
    "collapsed": true
   },
   "outputs": [],
   "source": [
    "def greedy_configuration(degree_distribution):\n",
    "    # Your code here.\n",
    "    n = len(degree_distribution)\n",
    "    G = nx.empty_graph(n)\n",
    "    \n",
    "    if n == 0:\n",
    "        return G\n",
    "    \n",
    "    stublist = _to_stublist(degree_distribution)\n",
    "    \n",
    "    for node1 in range(n):\n",
    "        \n",
    "        target_degree = degree_distribution[node1]\n",
    "        \n",
    "        if G.degree(node1, weight = 'weight') == target_degree:\n",
    "            stublist = list(filter(lambda a: a != node1, stublist))\n",
    "            continue\n",
    "        \n",
    "        stublist = list(filter(lambda a: a != node1, stublist))\n",
    "        \n",
    "        for j in range(target_degree - G.degree(node1, weight = 'weight')):\n",
    "            condition = True\n",
    "            while condition and not(not stublist):\n",
    "                node2 = np.random.randint(low = node1 + 1, high = n)\n",
    "                if node2 in stublist:\n",
    "                    condition = False\n",
    "                    stublist.remove(node2)\n",
    "                    if G.has_edge(node1, node2) == False:\n",
    "                        G.add_edge(node1,node2,weight = 1)\n",
    "                    elif G.has_edge(node1, node2) == True:\n",
    "                        G.edge[node1][node2]['weight'] += 1\n",
    "                \n",
    "    return G"
   ]
  },
  {
   "cell_type": "code",
   "execution_count": 14,
   "metadata": {},
   "outputs": [],
   "source": [
    "degree_distribution=sorted(nx.degree(G).values(),reverse=True) # degree distribution sorted from highest to lowest\n",
    "gc = greedy_configuration(degree_distribution)"
   ]
  },
  {
   "cell_type": "markdown",
   "metadata": {},
   "source": [
    "2.2 Verify that the networks have the same number of nodes. Plot the difference between the weighted degree distributions to verify that they are identical. If not, why?"
   ]
  },
  {
   "cell_type": "code",
   "execution_count": 15,
   "metadata": {},
   "outputs": [
    {
     "data": {
      "image/png": "[encoded data removed]",
      "text/plain": [
       "<matplotlib.figure.Figure at 0x14029216e80>"
      ]
     },
     "metadata": {},
     "output_type": "display_data"
    }
   ],
   "source": [
    "degree_sequence_gc=sorted(nx.degree(gc, weight = 'weight').values(),reverse=True) #weighted degree distribution\n",
    "# Your code here.\n",
    "plt.plot(np.array(degree_distribution) - np.array(degree_sequence_gc));\n",
    "plt.xlabel('Node')\n",
    "plt.ylabel('Degree difference')\n",
    "plt.title('Difference between degree distributions');"
   ]
  },
  {
   "cell_type": "markdown",
   "metadata": {},
   "source": [
    "**Your answer here.** Both distributions are exactly identical."
   ]
  },
  {
   "cell_type": "markdown",
   "metadata": {},
   "source": [
    "Sanity Check : Verify that all diagonal elements of the matrix are zero (No self loops)."
   ]
  },
  {
   "cell_type": "code",
   "execution_count": 16,
   "metadata": {},
   "outputs": [
    {
     "name": "stdout",
     "output_type": "stream",
     "text": [
      "Sanity Check passed!\n"
     ]
    }
   ],
   "source": [
    "w = nx.adjacency_matrix(gc)\n",
    "flag = True\n",
    "for i in range(w.shape[0]):\n",
    "    if w[i, i] != 0:\n",
    "        flag = flag and False\n",
    "if flag:\n",
    "    print('Sanity Check passed!')\n",
    "else:\n",
    "    print('Error!')"
   ]
  },
  {
   "cell_type": "markdown",
   "metadata": {},
   "source": [
    "2.3 Should these two networks have the same adjacency matrices? Justify."
   ]
  },
  {
   "cell_type": "markdown",
   "metadata": {},
   "source": [
    "**Your answer here.** No, these networks will not have the same adjacency matrix. Although the degree distribution has been preserved, yet, to match the target degree, individual nodes have been paired up with completely random stubs. This random pairing drastically reduces the possibility of a node getting paired up with its original partner. Hence, adjaceny matrix doesn't remain the same."
   ]
  },
  {
   "cell_type": "code",
   "execution_count": 17,
   "metadata": {
    "scrolled": true
   },
   "outputs": [
    {
     "data": {
      "image/png": "[encoded data removed]",
      "text/plain": [
       "<matplotlib.figure.Figure at 0x14025dcd6a0>"
      ]
     },
     "metadata": {},
     "output_type": "display_data"
    }
   ],
   "source": [
    "w1 = nx.adjacency_matrix(G)\n",
    "w2 = nx.adjacency_matrix(gc)\n",
    "f, (ax1, ax2) = plt.subplots(1, 2)\n",
    "size = f.get_size_inches()*f.dpi\n",
    "ax1.set_title('Original Graph')\n",
    "ax1.axis('off')\n",
    "ax1.spy(w1, marker = '.', markersize=0.5)\n",
    "ax2.set_title('Generated Graph')\n",
    "ax2.spy(w2, marker = '.', markersize=0.5)\n",
    "ax2.axis('off');"
   ]
  },
  {
   "cell_type": "markdown",
   "metadata": {},
   "source": [
    "2.4 Draw both the generated and original networks. Are they similar? If not, why? Try to explain."
   ]
  },
  {
   "cell_type": "code",
   "execution_count": 18,
   "metadata": {},
   "outputs": [
    {
     "data": {
      "image/png": "[encoded data removed]",
      "text/plain": [
       "<matplotlib.figure.Figure at 0x14027ae8588>"
      ]
     },
     "metadata": {},
     "output_type": "display_data"
    }
   ],
   "source": [
    "# Your code here.\n",
    "nx.draw(G)"
   ]
  },
  {
   "cell_type": "code",
   "execution_count": 19,
   "metadata": {},
   "outputs": [
    {
     "data": {
      "image/png": "[encoded data removed]",
      "text/plain": [
       "<matplotlib.figure.Figure at 0x1402ad0bda0>"
      ]
     },
     "metadata": {},
     "output_type": "display_data"
    }
   ],
   "source": [
    "nx.draw(gc)"
   ]
  },
  {
   "cell_type": "markdown",
   "metadata": {},
   "source": [
    "**Your answer here.** No, the two graphs don't look similar. Similarity in appearance is related to similarity in adjacent matrices because that would mean that many pair of nodes are common in both graphs. Since adjacency matrix isn't the same, hence, we can't expect the graphs to 'look' the same."
   ]
  },
  {
   "cell_type": "markdown",
   "metadata": {},
   "source": [
    "2.5 Do you expect the properties studied in the first part of the assignment to be close to the original graph? Justify."
   ]
  },
  {
   "cell_type": "markdown",
   "metadata": {},
   "source": [
    "**Your answer here.** I expect the number of edges to be the same. Because the generated graph is statistically similar, i.e., having the same degree distribution. But the same can't be said about giant component or clustering coefficient because their values depend on `p`, which is not preserved during model creation."
   ]
  },
  {
   "cell_type": "code",
   "execution_count": 20,
   "metadata": {},
   "outputs": [
    {
     "name": "stdout",
     "output_type": "stream",
     "text": [
      "No. of nodes : 5242\n",
      "No. of edges : 14460\n"
     ]
    }
   ],
   "source": [
    "print('No. of nodes : {}'.format(len(gc.nodes())))\n",
    "print('No. of edges : {}'.format(gc.size()))"
   ]
  }
 ],
 "metadata": {
  "kernelspec": {
   "display_name": "Python 3",
   "language": "python",
   "name": "python3"
  },
  "language_info": {
   "codemirror_mode": {
    "name": "ipython",
    "version": 3
   },
   "file_extension": ".py",
   "mimetype": "text/x-python",
   "name": "python",
   "nbconvert_exporter": "python",
   "pygments_lexer": "ipython3",
   "version": "3.6.1"
  }
 },
 "nbformat": 4,
 "nbformat_minor": 2
}
